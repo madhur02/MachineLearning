{
 "cells": [
  {
   "cell_type": "code",
   "execution_count": 32,
   "metadata": {},
   "outputs": [],
   "source": [
    "import numpy as np\n",
    "import pandas as pd\n",
    "\n",
    "\n",
    "df = pd.read_excel(r\"C:\\Users\\majain\\Downloads\\lufthansa_airlines_data.xlsx\", \n",
    "                   sheet_name = \"Sheet1\",index_col=0)\n",
    "\n",
    "df.drop([\"airline_name\",\"author\",\"content\"],axis = 1 , inplace = True)"
   ]
  },
  {
   "cell_type": "code",
   "execution_count": 33,
   "metadata": {},
   "outputs": [
    {
     "data": {
      "text/plain": [
       "none              545\n",
       "Solo Leisure      321\n",
       "Business          209\n",
       "Couple Leisure    169\n",
       "Family Leisure    109\n",
       "Name: type_of_traveller, dtype: int64"
      ]
     },
     "execution_count": 33,
     "metadata": {},
     "output_type": "execute_result"
    }
   ],
   "source": [
    "df[\"type_of_traveller\"].value_counts()"
   ]
  },
  {
   "cell_type": "code",
   "execution_count": 34,
   "metadata": {},
   "outputs": [],
   "source": [
    "df.drop(df[df[\"cabin_flown\"] == \"none\"].index, axis = 0, inplace= True)"
   ]
  },
  {
   "cell_type": "code",
   "execution_count": 35,
   "metadata": {},
   "outputs": [
    {
     "data": {
      "text/plain": [
       "Economy Class      899\n",
       "Business Class     311\n",
       "Premium Economy     74\n",
       "First Class         68\n",
       "Name: cabin_flown, dtype: int64"
      ]
     },
     "execution_count": 35,
     "metadata": {},
     "output_type": "execute_result"
    }
   ],
   "source": [
    "df[\"cabin_flown\"].value_counts()"
   ]
  },
  {
   "cell_type": "code",
   "execution_count": 36,
   "metadata": {},
   "outputs": [],
   "source": [
    "df[\"seat_comfort\"].replace( \"none\", 0 , inplace = True)\n",
    "df[\"cabin_staff_service\"].replace( \"none\", 0 , inplace = True)\n",
    "df[\"food_beverages\"].replace( \"none\", 0 , inplace = True)\n",
    "df[\"value_for_money\"].replace( \"none\", 0 , inplace = True)\n",
    "df[\"inflight_entertaintment\"].replace( \"none\", 0 , inplace = True)"
   ]
  },
  {
   "cell_type": "code",
   "execution_count": 37,
   "metadata": {},
   "outputs": [
    {
     "data": {
      "text/html": [
       "<div>\n",
       "<style scoped>\n",
       "    .dataframe tbody tr th:only-of-type {\n",
       "        vertical-align: middle;\n",
       "    }\n",
       "\n",
       "    .dataframe tbody tr th {\n",
       "        vertical-align: top;\n",
       "    }\n",
       "\n",
       "    .dataframe thead th {\n",
       "        text-align: right;\n",
       "    }\n",
       "</style>\n",
       "<table border=\"1\" class=\"dataframe\">\n",
       "  <thead>\n",
       "    <tr style=\"text-align: right;\">\n",
       "      <th></th>\n",
       "      <th>author_country</th>\n",
       "      <th>type_of_traveller</th>\n",
       "      <th>cabin_flown</th>\n",
       "      <th>date_flown</th>\n",
       "      <th>seat_comfort</th>\n",
       "      <th>cabin_staff_service</th>\n",
       "      <th>food_beverages</th>\n",
       "      <th>value_for_money</th>\n",
       "      <th>recommended</th>\n",
       "      <th>inflight_entertaintment</th>\n",
       "      <th>overall_rating</th>\n",
       "    </tr>\n",
       "  </thead>\n",
       "  <tbody>\n",
       "    <tr>\n",
       "      <th>0</th>\n",
       "      <td>United States</td>\n",
       "      <td>Couple Leisure</td>\n",
       "      <td>Economy Class</td>\n",
       "      <td>October 2018</td>\n",
       "      <td>4</td>\n",
       "      <td>4</td>\n",
       "      <td>4</td>\n",
       "      <td>2</td>\n",
       "      <td>yes</td>\n",
       "      <td>4</td>\n",
       "      <td>4</td>\n",
       "    </tr>\n",
       "  </tbody>\n",
       "</table>\n",
       "</div>"
      ],
      "text/plain": [
       "  author_country type_of_traveller    cabin_flown    date_flown  seat_comfort  \\\n",
       "0  United States    Couple Leisure  Economy Class  October 2018             4   \n",
       "\n",
       "   cabin_staff_service  food_beverages  value_for_money recommended  \\\n",
       "0                    4               4                2         yes   \n",
       "\n",
       "   inflight_entertaintment  overall_rating  \n",
       "0                        4               4  "
      ]
     },
     "execution_count": 37,
     "metadata": {},
     "output_type": "execute_result"
    }
   ],
   "source": [
    "df.head(1)"
   ]
  },
  {
   "cell_type": "code",
   "execution_count": 38,
   "metadata": {},
   "outputs": [],
   "source": [
    "df.drop('date_flown', axis = 1  , inplace = True)\n",
    "\n",
    "dummy_cols = pd.get_dummies(df[['author_country','type_of_traveller','cabin_flown']] ,\n",
    "                            drop_first = True )\n",
    "\n",
    "df  = pd.concat([df ,dummy_cols] , axis = 1)\n",
    "df.drop(['author_country','type_of_traveller','cabin_flown'], axis = 1, inplace = True)"
   ]
  },
  {
   "cell_type": "code",
   "execution_count": 41,
   "metadata": {},
   "outputs": [
    {
     "data": {
      "text/html": [
       "<div>\n",
       "<style scoped>\n",
       "    .dataframe tbody tr th:only-of-type {\n",
       "        vertical-align: middle;\n",
       "    }\n",
       "\n",
       "    .dataframe tbody tr th {\n",
       "        vertical-align: top;\n",
       "    }\n",
       "\n",
       "    .dataframe thead th {\n",
       "        text-align: right;\n",
       "    }\n",
       "</style>\n",
       "<table border=\"1\" class=\"dataframe\">\n",
       "  <thead>\n",
       "    <tr style=\"text-align: right;\">\n",
       "      <th></th>\n",
       "      <th>seat_comfort</th>\n",
       "      <th>cabin_staff_service</th>\n",
       "      <th>food_beverages</th>\n",
       "      <th>value_for_money</th>\n",
       "      <th>recommended</th>\n",
       "      <th>inflight_entertaintment</th>\n",
       "      <th>overall_rating</th>\n",
       "      <th>author_country_Australia</th>\n",
       "      <th>author_country_Austria</th>\n",
       "      <th>author_country_Belarus</th>\n",
       "      <th>...</th>\n",
       "      <th>author_country_Venezuela</th>\n",
       "      <th>author_country_Vietnam</th>\n",
       "      <th>author_country_ocenti</th>\n",
       "      <th>type_of_traveller_Couple Leisure</th>\n",
       "      <th>type_of_traveller_Family Leisure</th>\n",
       "      <th>type_of_traveller_Solo Leisure</th>\n",
       "      <th>type_of_traveller_none</th>\n",
       "      <th>cabin_flown_Economy Class</th>\n",
       "      <th>cabin_flown_First Class</th>\n",
       "      <th>cabin_flown_Premium Economy</th>\n",
       "    </tr>\n",
       "  </thead>\n",
       "  <tbody>\n",
       "    <tr>\n",
       "      <th>0</th>\n",
       "      <td>4</td>\n",
       "      <td>4</td>\n",
       "      <td>4</td>\n",
       "      <td>2</td>\n",
       "      <td>yes</td>\n",
       "      <td>4</td>\n",
       "      <td>4</td>\n",
       "      <td>0</td>\n",
       "      <td>0</td>\n",
       "      <td>0</td>\n",
       "      <td>...</td>\n",
       "      <td>0</td>\n",
       "      <td>0</td>\n",
       "      <td>0</td>\n",
       "      <td>1</td>\n",
       "      <td>0</td>\n",
       "      <td>0</td>\n",
       "      <td>0</td>\n",
       "      <td>1</td>\n",
       "      <td>0</td>\n",
       "      <td>0</td>\n",
       "    </tr>\n",
       "    <tr>\n",
       "      <th>1</th>\n",
       "      <td>4</td>\n",
       "      <td>3</td>\n",
       "      <td>3</td>\n",
       "      <td>2</td>\n",
       "      <td>no</td>\n",
       "      <td>3</td>\n",
       "      <td>6</td>\n",
       "      <td>0</td>\n",
       "      <td>0</td>\n",
       "      <td>0</td>\n",
       "      <td>...</td>\n",
       "      <td>0</td>\n",
       "      <td>0</td>\n",
       "      <td>0</td>\n",
       "      <td>0</td>\n",
       "      <td>0</td>\n",
       "      <td>0</td>\n",
       "      <td>0</td>\n",
       "      <td>0</td>\n",
       "      <td>0</td>\n",
       "      <td>1</td>\n",
       "    </tr>\n",
       "    <tr>\n",
       "      <th>2</th>\n",
       "      <td>4</td>\n",
       "      <td>5</td>\n",
       "      <td>5</td>\n",
       "      <td>5</td>\n",
       "      <td>yes</td>\n",
       "      <td>0</td>\n",
       "      <td>10</td>\n",
       "      <td>0</td>\n",
       "      <td>0</td>\n",
       "      <td>0</td>\n",
       "      <td>...</td>\n",
       "      <td>0</td>\n",
       "      <td>0</td>\n",
       "      <td>0</td>\n",
       "      <td>0</td>\n",
       "      <td>0</td>\n",
       "      <td>0</td>\n",
       "      <td>0</td>\n",
       "      <td>1</td>\n",
       "      <td>0</td>\n",
       "      <td>0</td>\n",
       "    </tr>\n",
       "    <tr>\n",
       "      <th>3</th>\n",
       "      <td>5</td>\n",
       "      <td>4</td>\n",
       "      <td>4</td>\n",
       "      <td>5</td>\n",
       "      <td>yes</td>\n",
       "      <td>5</td>\n",
       "      <td>9</td>\n",
       "      <td>0</td>\n",
       "      <td>0</td>\n",
       "      <td>0</td>\n",
       "      <td>...</td>\n",
       "      <td>0</td>\n",
       "      <td>0</td>\n",
       "      <td>0</td>\n",
       "      <td>1</td>\n",
       "      <td>0</td>\n",
       "      <td>0</td>\n",
       "      <td>0</td>\n",
       "      <td>1</td>\n",
       "      <td>0</td>\n",
       "      <td>0</td>\n",
       "    </tr>\n",
       "    <tr>\n",
       "      <th>4</th>\n",
       "      <td>3</td>\n",
       "      <td>5</td>\n",
       "      <td>4</td>\n",
       "      <td>4</td>\n",
       "      <td>yes</td>\n",
       "      <td>3</td>\n",
       "      <td>8</td>\n",
       "      <td>0</td>\n",
       "      <td>0</td>\n",
       "      <td>0</td>\n",
       "      <td>...</td>\n",
       "      <td>0</td>\n",
       "      <td>0</td>\n",
       "      <td>0</td>\n",
       "      <td>0</td>\n",
       "      <td>0</td>\n",
       "      <td>0</td>\n",
       "      <td>0</td>\n",
       "      <td>0</td>\n",
       "      <td>0</td>\n",
       "      <td>0</td>\n",
       "    </tr>\n",
       "  </tbody>\n",
       "</table>\n",
       "<p>5 rows × 88 columns</p>\n",
       "</div>"
      ],
      "text/plain": [
       "   seat_comfort  cabin_staff_service  food_beverages  value_for_money  \\\n",
       "0             4                    4               4                2   \n",
       "1             4                    3               3                2   \n",
       "2             4                    5               5                5   \n",
       "3             5                    4               4                5   \n",
       "4             3                    5               4                4   \n",
       "\n",
       "  recommended  inflight_entertaintment  overall_rating  \\\n",
       "0         yes                        4               4   \n",
       "1          no                        3               6   \n",
       "2         yes                        0              10   \n",
       "3         yes                        5               9   \n",
       "4         yes                        3               8   \n",
       "\n",
       "   author_country_Australia  author_country_Austria  author_country_Belarus  \\\n",
       "0                         0                       0                       0   \n",
       "1                         0                       0                       0   \n",
       "2                         0                       0                       0   \n",
       "3                         0                       0                       0   \n",
       "4                         0                       0                       0   \n",
       "\n",
       "   ...  author_country_Venezuela  author_country_Vietnam  \\\n",
       "0  ...                         0                       0   \n",
       "1  ...                         0                       0   \n",
       "2  ...                         0                       0   \n",
       "3  ...                         0                       0   \n",
       "4  ...                         0                       0   \n",
       "\n",
       "   author_country_ocenti   type_of_traveller_Couple Leisure  \\\n",
       "0                       0                                 1   \n",
       "1                       0                                 0   \n",
       "2                       0                                 0   \n",
       "3                       0                                 1   \n",
       "4                       0                                 0   \n",
       "\n",
       "   type_of_traveller_Family Leisure  type_of_traveller_Solo Leisure  \\\n",
       "0                                 0                               0   \n",
       "1                                 0                               0   \n",
       "2                                 0                               0   \n",
       "3                                 0                               0   \n",
       "4                                 0                               0   \n",
       "\n",
       "   type_of_traveller_none  cabin_flown_Economy Class  cabin_flown_First Class  \\\n",
       "0                       0                          1                        0   \n",
       "1                       0                          0                        0   \n",
       "2                       0                          1                        0   \n",
       "3                       0                          1                        0   \n",
       "4                       0                          0                        0   \n",
       "\n",
       "   cabin_flown_Premium Economy  \n",
       "0                            0  \n",
       "1                            1  \n",
       "2                            0  \n",
       "3                            0  \n",
       "4                            0  \n",
       "\n",
       "[5 rows x 88 columns]"
      ]
     },
     "execution_count": 41,
     "metadata": {},
     "output_type": "execute_result"
    }
   ],
   "source": [
    "df.head()"
   ]
  },
  {
   "cell_type": "code",
   "execution_count": 42,
   "metadata": {},
   "outputs": [],
   "source": [
    "x = df.drop('recommended', axis = 1)\n",
    "y = df['recommended']"
   ]
  },
  {
   "cell_type": "code",
   "execution_count": 43,
   "metadata": {},
   "outputs": [],
   "source": [
    "from sklearn.model_selection import train_test_split\n",
    "x_train , x_test , y_train , y_test = train_test_split(x, y  , test_size = 0.30 , random_state = 100)"
   ]
  },
  {
   "cell_type": "code",
   "execution_count": 44,
   "metadata": {},
   "outputs": [
    {
     "name": "stderr",
     "output_type": "stream",
     "text": [
      "C:\\Users\\majain\\AppData\\Local\\Continuum\\anaconda3\\lib\\site-packages\\sklearn\\linear_model\\logistic.py:433: FutureWarning: Default solver will be changed to 'lbfgs' in 0.22. Specify a solver to silence this warning.\n",
      "  FutureWarning)\n"
     ]
    },
    {
     "name": "stdout",
     "output_type": "stream",
     "text": [
      "              precision    recall  f1-score   support\n",
      "\n",
      "          no       0.90      0.76      0.83       109\n",
      "         yes       0.92      0.97      0.94       297\n",
      "\n",
      "   micro avg       0.91      0.91      0.91       406\n",
      "   macro avg       0.91      0.87      0.88       406\n",
      "weighted avg       0.91      0.91      0.91       406\n",
      "\n",
      "[[ 83  26]\n",
      " [  9 288]]\n"
     ]
    }
   ],
   "source": [
    "from sklearn.linear_model import LogisticRegression\n",
    "\n",
    "logmodel = LogisticRegression()\n",
    "\n",
    "logmodel.fit(x_train , y_train)\n",
    "\n",
    "predictions = logmodel.predict(x_test)\n",
    "\n",
    "from sklearn.metrics import classification_report , confusion_matrix\n",
    "print(classification_report(y_test , predictions))\n",
    "print(confusion_matrix(y_test , predictions))"
   ]
  },
  {
   "cell_type": "code",
   "execution_count": null,
   "metadata": {},
   "outputs": [],
   "source": []
  }
 ],
 "metadata": {
  "kernelspec": {
   "display_name": "Python 3",
   "language": "python",
   "name": "python3"
  },
  "language_info": {
   "codemirror_mode": {
    "name": "ipython",
    "version": 3
   },
   "file_extension": ".py",
   "mimetype": "text/x-python",
   "name": "python",
   "nbconvert_exporter": "python",
   "pygments_lexer": "ipython3",
   "version": "3.7.3"
  }
 },
 "nbformat": 4,
 "nbformat_minor": 2
}
