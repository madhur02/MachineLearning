{
 "cells": [
  {
   "cell_type": "code",
   "execution_count": 1,
   "metadata": {},
   "outputs": [],
   "source": [
    "import numpy as np\n",
    "import pandas as pd"
   ]
  },
  {
   "cell_type": "code",
   "execution_count": 2,
   "metadata": {},
   "outputs": [],
   "source": [
    "df = pd.read_csv(r\"C:\\Users\\majain\\Desktop\\DataScience\\DataScience by Madhur\\Projects\\absolute data\\Case Study 1\\Training Data - Classification of Patients with Abnormal Blood Pressure (N=2000)_27-Jul-2016.csv\")"
   ]
  },
  {
   "cell_type": "code",
   "execution_count": 3,
   "metadata": {},
   "outputs": [
    {
     "data": {
      "text/html": [
       "<div>\n",
       "<style scoped>\n",
       "    .dataframe tbody tr th:only-of-type {\n",
       "        vertical-align: middle;\n",
       "    }\n",
       "\n",
       "    .dataframe tbody tr th {\n",
       "        vertical-align: top;\n",
       "    }\n",
       "\n",
       "    .dataframe thead th {\n",
       "        text-align: right;\n",
       "    }\n",
       "</style>\n",
       "<table border=\"1\" class=\"dataframe\">\n",
       "  <thead>\n",
       "    <tr style=\"text-align: right;\">\n",
       "      <th></th>\n",
       "      <th>Patient_Number</th>\n",
       "      <th>Blood_Pressure_Abnormality</th>\n",
       "      <th>Level_of_Hemoglobin</th>\n",
       "      <th>Genetic_Pedigree_Coefficient</th>\n",
       "      <th>Age</th>\n",
       "      <th>BMI</th>\n",
       "      <th>Sex</th>\n",
       "      <th>Pregnancy</th>\n",
       "      <th>Smoking</th>\n",
       "      <th>Physical_activity</th>\n",
       "      <th>salt_content_in_the_diet</th>\n",
       "      <th>alcohol_consumption_per_day</th>\n",
       "      <th>Level_of_Stress</th>\n",
       "      <th>Chronic_kidney_disease</th>\n",
       "      <th>Adrenal_and_thyroid_disorders</th>\n",
       "    </tr>\n",
       "  </thead>\n",
       "  <tbody>\n",
       "    <tr>\n",
       "      <th>0</th>\n",
       "      <td>1</td>\n",
       "      <td>1</td>\n",
       "      <td>11.28</td>\n",
       "      <td>0.90</td>\n",
       "      <td>34</td>\n",
       "      <td>23</td>\n",
       "      <td>1</td>\n",
       "      <td>1.0</td>\n",
       "      <td>0</td>\n",
       "      <td>45961</td>\n",
       "      <td>48071</td>\n",
       "      <td>NaN</td>\n",
       "      <td>2</td>\n",
       "      <td>1</td>\n",
       "      <td>1</td>\n",
       "    </tr>\n",
       "    <tr>\n",
       "      <th>1</th>\n",
       "      <td>2</td>\n",
       "      <td>0</td>\n",
       "      <td>9.75</td>\n",
       "      <td>0.23</td>\n",
       "      <td>54</td>\n",
       "      <td>33</td>\n",
       "      <td>1</td>\n",
       "      <td>NaN</td>\n",
       "      <td>0</td>\n",
       "      <td>26106</td>\n",
       "      <td>25333</td>\n",
       "      <td>205.0</td>\n",
       "      <td>3</td>\n",
       "      <td>0</td>\n",
       "      <td>0</td>\n",
       "    </tr>\n",
       "    <tr>\n",
       "      <th>2</th>\n",
       "      <td>3</td>\n",
       "      <td>1</td>\n",
       "      <td>10.79</td>\n",
       "      <td>0.91</td>\n",
       "      <td>70</td>\n",
       "      <td>49</td>\n",
       "      <td>0</td>\n",
       "      <td>NaN</td>\n",
       "      <td>0</td>\n",
       "      <td>9995</td>\n",
       "      <td>29465</td>\n",
       "      <td>67.0</td>\n",
       "      <td>2</td>\n",
       "      <td>1</td>\n",
       "      <td>0</td>\n",
       "    </tr>\n",
       "    <tr>\n",
       "      <th>3</th>\n",
       "      <td>4</td>\n",
       "      <td>0</td>\n",
       "      <td>11.00</td>\n",
       "      <td>0.43</td>\n",
       "      <td>71</td>\n",
       "      <td>50</td>\n",
       "      <td>0</td>\n",
       "      <td>NaN</td>\n",
       "      <td>0</td>\n",
       "      <td>10635</td>\n",
       "      <td>7439</td>\n",
       "      <td>242.0</td>\n",
       "      <td>1</td>\n",
       "      <td>1</td>\n",
       "      <td>0</td>\n",
       "    </tr>\n",
       "    <tr>\n",
       "      <th>4</th>\n",
       "      <td>5</td>\n",
       "      <td>1</td>\n",
       "      <td>14.17</td>\n",
       "      <td>0.83</td>\n",
       "      <td>52</td>\n",
       "      <td>19</td>\n",
       "      <td>0</td>\n",
       "      <td>NaN</td>\n",
       "      <td>0</td>\n",
       "      <td>15619</td>\n",
       "      <td>49644</td>\n",
       "      <td>397.0</td>\n",
       "      <td>2</td>\n",
       "      <td>0</td>\n",
       "      <td>0</td>\n",
       "    </tr>\n",
       "  </tbody>\n",
       "</table>\n",
       "</div>"
      ],
      "text/plain": [
       "   Patient_Number  Blood_Pressure_Abnormality  Level_of_Hemoglobin  \\\n",
       "0               1                           1                11.28   \n",
       "1               2                           0                 9.75   \n",
       "2               3                           1                10.79   \n",
       "3               4                           0                11.00   \n",
       "4               5                           1                14.17   \n",
       "\n",
       "   Genetic_Pedigree_Coefficient  Age  BMI  Sex  Pregnancy  Smoking  \\\n",
       "0                          0.90   34   23    1        1.0        0   \n",
       "1                          0.23   54   33    1        NaN        0   \n",
       "2                          0.91   70   49    0        NaN        0   \n",
       "3                          0.43   71   50    0        NaN        0   \n",
       "4                          0.83   52   19    0        NaN        0   \n",
       "\n",
       "   Physical_activity  salt_content_in_the_diet  alcohol_consumption_per_day  \\\n",
       "0              45961                     48071                          NaN   \n",
       "1              26106                     25333                        205.0   \n",
       "2               9995                     29465                         67.0   \n",
       "3              10635                      7439                        242.0   \n",
       "4              15619                     49644                        397.0   \n",
       "\n",
       "   Level_of_Stress  Chronic_kidney_disease  Adrenal_and_thyroid_disorders  \n",
       "0                2                       1                              1  \n",
       "1                3                       0                              0  \n",
       "2                2                       1                              0  \n",
       "3                1                       1                              0  \n",
       "4                2                       0                              0  "
      ]
     },
     "execution_count": 3,
     "metadata": {},
     "output_type": "execute_result"
    }
   ],
   "source": [
    "df.head()"
   ]
  },
  {
   "cell_type": "code",
   "execution_count": 4,
   "metadata": {},
   "outputs": [
    {
     "name": "stdout",
     "output_type": "stream",
     "text": [
      "<class 'pandas.core.frame.DataFrame'>\n",
      "RangeIndex: 2000 entries, 0 to 1999\n",
      "Data columns (total 15 columns):\n",
      " #   Column                         Non-Null Count  Dtype  \n",
      "---  ------                         --------------  -----  \n",
      " 0   Patient_Number                 2000 non-null   int64  \n",
      " 1   Blood_Pressure_Abnormality     2000 non-null   int64  \n",
      " 2   Level_of_Hemoglobin            2000 non-null   float64\n",
      " 3   Genetic_Pedigree_Coefficient   1908 non-null   float64\n",
      " 4   Age                            2000 non-null   int64  \n",
      " 5   BMI                            2000 non-null   int64  \n",
      " 6   Sex                            2000 non-null   int64  \n",
      " 7   Pregnancy                      442 non-null    float64\n",
      " 8   Smoking                        2000 non-null   int64  \n",
      " 9   Physical_activity              2000 non-null   int64  \n",
      " 10  salt_content_in_the_diet       2000 non-null   int64  \n",
      " 11  alcohol_consumption_per_day    1758 non-null   float64\n",
      " 12  Level_of_Stress                2000 non-null   int64  \n",
      " 13  Chronic_kidney_disease         2000 non-null   int64  \n",
      " 14  Adrenal_and_thyroid_disorders  2000 non-null   int64  \n",
      "dtypes: float64(4), int64(11)\n",
      "memory usage: 234.5 KB\n"
     ]
    }
   ],
   "source": [
    "df.info()"
   ]
  },
  {
   "cell_type": "code",
   "execution_count": 5,
   "metadata": {},
   "outputs": [],
   "source": [
    "#import seaborn as sns"
   ]
  },
  {
   "cell_type": "raw",
   "metadata": {},
   "source": [
    "Genetic_Pedigree_Coefficient -- 1908\n",
    "Pregnancy -- 400\n",
    "alcohol_consumption_per_day -- 1758\n"
   ]
  },
  {
   "cell_type": "code",
   "execution_count": 6,
   "metadata": {},
   "outputs": [
    {
     "data": {
      "text/plain": [
       "0.4948165618448649"
      ]
     },
     "execution_count": 6,
     "metadata": {},
     "output_type": "execute_result"
    }
   ],
   "source": [
    "df['Genetic_Pedigree_Coefficient'].mean()"
   ]
  },
  {
   "cell_type": "code",
   "execution_count": 7,
   "metadata": {},
   "outputs": [],
   "source": [
    "#import seaborn as sns"
   ]
  },
  {
   "cell_type": "code",
   "execution_count": 8,
   "metadata": {},
   "outputs": [],
   "source": [
    "df['Genetic_Pedigree_Coefficient'].fillna(value = df['Genetic_Pedigree_Coefficient'].mean(), inplace = True)"
   ]
  },
  {
   "cell_type": "code",
   "execution_count": 9,
   "metadata": {},
   "outputs": [
    {
     "data": {
      "text/plain": [
       "0.0    243\n",
       "1.0    199\n",
       "Name: Pregnancy, dtype: int64"
      ]
     },
     "execution_count": 9,
     "metadata": {},
     "output_type": "execute_result"
    }
   ],
   "source": [
    "df['Pregnancy'].value_counts()"
   ]
  },
  {
   "cell_type": "code",
   "execution_count": 10,
   "metadata": {},
   "outputs": [
    {
     "data": {
      "text/plain": [
       "Pregnancy  Blood_Pressure_Abnormality\n",
       "0.0        0                             113\n",
       "           1                             130\n",
       "1.0        0                              96\n",
       "           1                             103\n",
       "Name: Blood_Pressure_Abnormality, dtype: int64"
      ]
     },
     "execution_count": 10,
     "metadata": {},
     "output_type": "execute_result"
    }
   ],
   "source": [
    "df.groupby(['Pregnancy','Blood_Pressure_Abnormality'])['Blood_Pressure_Abnormality'].count()"
   ]
  },
  {
   "cell_type": "code",
   "execution_count": 11,
   "metadata": {},
   "outputs": [],
   "source": [
    "df.drop('Pregnancy',axis = 1 , inplace = True)"
   ]
  },
  {
   "cell_type": "code",
   "execution_count": 12,
   "metadata": {},
   "outputs": [
    {
     "name": "stdout",
     "output_type": "stream",
     "text": [
      "<class 'pandas.core.frame.DataFrame'>\n",
      "RangeIndex: 2000 entries, 0 to 1999\n",
      "Data columns (total 14 columns):\n",
      " #   Column                         Non-Null Count  Dtype  \n",
      "---  ------                         --------------  -----  \n",
      " 0   Patient_Number                 2000 non-null   int64  \n",
      " 1   Blood_Pressure_Abnormality     2000 non-null   int64  \n",
      " 2   Level_of_Hemoglobin            2000 non-null   float64\n",
      " 3   Genetic_Pedigree_Coefficient   2000 non-null   float64\n",
      " 4   Age                            2000 non-null   int64  \n",
      " 5   BMI                            2000 non-null   int64  \n",
      " 6   Sex                            2000 non-null   int64  \n",
      " 7   Smoking                        2000 non-null   int64  \n",
      " 8   Physical_activity              2000 non-null   int64  \n",
      " 9   salt_content_in_the_diet       2000 non-null   int64  \n",
      " 10  alcohol_consumption_per_day    1758 non-null   float64\n",
      " 11  Level_of_Stress                2000 non-null   int64  \n",
      " 12  Chronic_kidney_disease         2000 non-null   int64  \n",
      " 13  Adrenal_and_thyroid_disorders  2000 non-null   int64  \n",
      "dtypes: float64(3), int64(11)\n",
      "memory usage: 218.9 KB\n"
     ]
    }
   ],
   "source": [
    "df.info()"
   ]
  },
  {
   "cell_type": "code",
   "execution_count": 13,
   "metadata": {},
   "outputs": [
    {
     "data": {
      "text/plain": [
       "count    1758.000000\n",
       "mean      251.008532\n",
       "std       143.651884\n",
       "min         0.000000\n",
       "25%       126.250000\n",
       "50%       250.000000\n",
       "75%       377.750000\n",
       "max       499.000000\n",
       "Name: alcohol_consumption_per_day, dtype: float64"
      ]
     },
     "execution_count": 13,
     "metadata": {},
     "output_type": "execute_result"
    }
   ],
   "source": [
    "df['alcohol_consumption_per_day'].describe()"
   ]
  },
  {
   "cell_type": "code",
   "execution_count": 14,
   "metadata": {},
   "outputs": [
    {
     "data": {
      "text/plain": [
       "3    691\n",
       "1    666\n",
       "2    643\n",
       "Name: Level_of_Stress, dtype: int64"
      ]
     },
     "execution_count": 14,
     "metadata": {},
     "output_type": "execute_result"
    }
   ],
   "source": [
    "df['Level_of_Stress'].value_counts()"
   ]
  },
  {
   "cell_type": "code",
   "execution_count": 15,
   "metadata": {},
   "outputs": [],
   "source": [
    "def fill_alcohol_consumption(col):\n",
    "    stress = col[0]\n",
    "    alcohol = col[1]\n",
    "\n",
    "    if pd.isnull(alcohol):\n",
    "        if stress == 1:\n",
    "            return 246\n",
    "        elif stress == 2:\n",
    "            return 255\n",
    "        else:\n",
    "            return 251\n",
    "    else:\n",
    "        return alcohol\n",
    "    "
   ]
  },
  {
   "cell_type": "code",
   "execution_count": 16,
   "metadata": {},
   "outputs": [],
   "source": [
    "df['alcohol_consumption_per_day'] = df[['Level_of_Stress','alcohol_consumption_per_day']].apply(fill_alcohol_consumption, axis = 1)"
   ]
  },
  {
   "cell_type": "code",
   "execution_count": 17,
   "metadata": {},
   "outputs": [],
   "source": [
    "x = df.drop('Blood_Pressure_Abnormality', axis = 1)\n",
    "y = df['Blood_Pressure_Abnormality']\n",
    "from sklearn.model_selection import train_test_split\n",
    "X_train, X_test, y_train, y_test = train_test_split(x, y, test_size=0.33, random_state=42)"
   ]
  },
  {
   "cell_type": "code",
   "execution_count": 18,
   "metadata": {},
   "outputs": [],
   "source": [
    "from sklearn.svm import SVC\n",
    "from sklearn.model_selection import GridSearchCV"
   ]
  },
  {
   "cell_type": "code",
   "execution_count": null,
   "metadata": {},
   "outputs": [],
   "source": [
    "param_grid = {'C': [0.1,1, 10], \n",
    "              'gamma': [1,0.1], \n",
    "              'kernel': ['linear','rbf']} \n",
    "\n",
    "grid = GridSearchCV(SVC(),param_grid,refit=True, cv = 3)\n",
    "grid.fit(X_train,y_train)"
   ]
  },
  {
   "cell_type": "code",
   "execution_count": null,
   "metadata": {},
   "outputs": [],
   "source": [
    "prediction = grid.predict(X_test)\n",
    "print(confusion_matrix(y_test,prediction))\n",
    "print(classification_report(y_test,prediction))"
   ]
  },
  {
   "cell_type": "code",
   "execution_count": 22,
   "metadata": {},
   "outputs": [],
   "source": [
    "from sklearn.metrics import classification_report , confusion_matrix"
   ]
  },
  {
   "cell_type": "code",
   "execution_count": 23,
   "metadata": {},
   "outputs": [
    {
     "name": "stdout",
     "output_type": "stream",
     "text": [
      "[[187 169]\n",
      " [124 180]]\n",
      "              precision    recall  f1-score   support\n",
      "\n",
      "           0       0.60      0.53      0.56       356\n",
      "           1       0.52      0.59      0.55       304\n",
      "\n",
      "    accuracy                           0.56       660\n",
      "   macro avg       0.56      0.56      0.56       660\n",
      "weighted avg       0.56      0.56      0.56       660\n",
      "\n"
     ]
    },
    {
     "name": "stderr",
     "output_type": "stream",
     "text": [
      "C:\\Users\\majain\\AppData\\Local\\Continuum\\anaconda3\\lib\\site-packages\\sklearn\\linear_model\\_logistic.py:940: ConvergenceWarning: lbfgs failed to converge (status=1):\n",
      "STOP: TOTAL NO. of ITERATIONS REACHED LIMIT.\n",
      "\n",
      "Increase the number of iterations (max_iter) or scale the data as shown in:\n",
      "    https://scikit-learn.org/stable/modules/preprocessing.html\n",
      "Please also refer to the documentation for alternative solver options:\n",
      "    https://scikit-learn.org/stable/modules/linear_model.html#logistic-regression\n",
      "  extra_warning_msg=_LOGISTIC_SOLVER_CONVERGENCE_MSG)\n"
     ]
    }
   ],
   "source": [
    "from sklearn.linear_model import LogisticRegression\n",
    "\n",
    "model = LogisticRegression()\n",
    "model.fit(X_train, y_train)\n",
    "pred = model.predict(X_test)\n",
    "print(confusion_matrix(y_test,pred))\n",
    "print(classification_report(y_test,pred))"
   ]
  },
  {
   "cell_type": "code",
   "execution_count": 25,
   "metadata": {},
   "outputs": [
    {
     "name": "stdout",
     "output_type": "stream",
     "text": [
      "[[325  31]\n",
      " [104 200]]\n",
      "              precision    recall  f1-score   support\n",
      "\n",
      "           0       0.76      0.91      0.83       356\n",
      "           1       0.87      0.66      0.75       304\n",
      "\n",
      "    accuracy                           0.80       660\n",
      "   macro avg       0.81      0.79      0.79       660\n",
      "weighted avg       0.81      0.80      0.79       660\n",
      "\n"
     ]
    }
   ],
   "source": [
    "from sklearn.tree import DecisionTreeClassifier\n",
    "\n",
    "model = DecisionTreeClassifier(criterion='entropy', max_depth= 3)\n",
    "model.fit(X_train, y_train)\n",
    "pred = model.predict(X_test)\n",
    "print(confusion_matrix(y_test,pred))\n",
    "print(classification_report(y_test,pred))"
   ]
  },
  {
   "cell_type": "code",
   "execution_count": 27,
   "metadata": {},
   "outputs": [
    {
     "name": "stdout",
     "output_type": "stream",
     "text": [
      "[[309  47]\n",
      " [ 28 276]]\n",
      "              precision    recall  f1-score   support\n",
      "\n",
      "           0       0.92      0.87      0.89       356\n",
      "           1       0.85      0.91      0.88       304\n",
      "\n",
      "    accuracy                           0.89       660\n",
      "   macro avg       0.89      0.89      0.89       660\n",
      "weighted avg       0.89      0.89      0.89       660\n",
      "\n"
     ]
    }
   ],
   "source": [
    "from sklearn.ensemble import RandomForestClassifier\n",
    "\n",
    "model = RandomForestClassifier()\n",
    "model.fit(X_train, y_train)\n",
    "pred = model.predict(X_test)\n",
    "print(confusion_matrix(y_test,pred))\n",
    "print(classification_report(y_test,pred))"
   ]
  },
  {
   "cell_type": "code",
   "execution_count": null,
   "metadata": {},
   "outputs": [],
   "source": []
  }
 ],
 "metadata": {
  "kernelspec": {
   "display_name": "Python 3",
   "language": "python",
   "name": "python3"
  },
  "language_info": {
   "codemirror_mode": {
    "name": "ipython",
    "version": 3
   },
   "file_extension": ".py",
   "mimetype": "text/x-python",
   "name": "python",
   "nbconvert_exporter": "python",
   "pygments_lexer": "ipython3",
   "version": "3.7.4"
  }
 },
 "nbformat": 4,
 "nbformat_minor": 2
}
