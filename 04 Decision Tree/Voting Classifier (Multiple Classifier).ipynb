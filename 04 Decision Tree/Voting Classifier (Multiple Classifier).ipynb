{
 "cells": [
  {
   "cell_type": "markdown",
   "metadata": {},
   "source": [
    "## Loan Prediction problem\n",
    "\n",
    "Here we are trying to predict whether a person will repay the loan amount or not based on multiple parameters.\n"
   ]
  },
  {
   "cell_type": "code",
   "execution_count": 1,
   "metadata": {},
   "outputs": [
    {
     "name": "stderr",
     "output_type": "stream",
     "text": [
      "C:\\ProgramData\\Anaconda3\\lib\\site-packages\\sklearn\\ensemble\\weight_boosting.py:29: DeprecationWarning: numpy.core.umath_tests is an internal NumPy module and should not be imported. It will be removed in a future NumPy release.\n",
      "  from numpy.core.umath_tests import inner1d\n"
     ]
    }
   ],
   "source": [
    "import numpy as np\n",
    "from sklearn.linear_model import LogisticRegression\n",
    "from sklearn.naive_bayes import GaussianNB\n",
    "from sklearn.ensemble import RandomForestClassifier, VotingClassifier\n",
    "import pandas as pd"
   ]
  },
  {
   "cell_type": "code",
   "execution_count": 2,
   "metadata": {},
   "outputs": [],
   "source": [
    "clf1 = LogisticRegression()\n",
    "clf2 = RandomForestClassifier()\n",
    "clf3 = GaussianNB()\n",
    "\n",
    "df=pd.read_csv(r\"D:\\DataScience by Madhur\\04 Machine Learning\n",
    "               \\Ensemble learning\\train_clean_data.csv\")"
   ]
  },
  {
   "cell_type": "code",
   "execution_count": 3,
   "metadata": {},
   "outputs": [
    {
     "name": "stdout",
     "output_type": "stream",
     "text": [
      "<class 'pandas.core.frame.DataFrame'>\n",
      "RangeIndex: 517 entries, 0 to 516\n",
      "Data columns (total 15 columns):\n",
      "Unnamed: 0                 517 non-null int64\n",
      "Loan_ID                    517 non-null object\n",
      "Dependents                 517 non-null object\n",
      "ApplicantIncome            517 non-null int64\n",
      "CoapplicantIncome          517 non-null float64\n",
      "LoanAmount                 517 non-null float64\n",
      "Loan_Amount_Term           517 non-null float64\n",
      "Credit_History             517 non-null float64\n",
      "gender_Male                517 non-null int64\n",
      "married_Yes                517 non-null int64\n",
      "education_Not Graduate     517 non-null int64\n",
      "property_area_Semiurban    517 non-null int64\n",
      "property_area_Urban        517 non-null int64\n",
      "self_employed_Yes          517 non-null int64\n",
      "Loan_status_Y              517 non-null int64\n",
      "dtypes: float64(4), int64(9), object(2)\n",
      "memory usage: 60.7+ KB\n"
     ]
    }
   ],
   "source": [
    "df.info()"
   ]
  },
  {
   "cell_type": "markdown",
   "metadata": {},
   "source": [
    "## Train test Split"
   ]
  },
  {
   "cell_type": "code",
   "execution_count": 8,
   "metadata": {
    "collapsed": true
   },
   "outputs": [],
   "source": [
    "X = df.drop(['Loan_ID','Dependents','Loan_status_Y'],axis =1 )\n",
    "y = df['Loan_status_Y']\n",
    "\n",
    "from sklearn.model_selection import train_test_split\n",
    "\n",
    "X_train, X_test, y_train, y_test = train_test_split(X, y, test_size=0.33,\n",
    "                                                    random_state=42)"
   ]
  },
  {
   "cell_type": "markdown",
   "metadata": {},
   "source": [
    "## Voting Classifier\n",
    "\n",
    "We are taking the outputs of multiple classifiers like:\n",
    "    1. Logistic Regression\n",
    "    2. Random Forest \n",
    "    3. Gausian Naive Bayes\n",
    "   \n",
    "Then take the majority votes to decide the final classification."
   ]
  },
  {
   "cell_type": "markdown",
   "metadata": {},
   "source": [
    "eclf1 = VotingClassifier(estimators=[('lr', clf1), ('rf', clf2), ('gnb', clf3)],weights=[1,2,4], \n",
    "                         voting='soft')\n",
    "eclf1 = eclf1.fit(X_train, y_train)\n",
    "prediction = eclf1.predict(X_test)\n",
    "\n",
    "\n",
    "from sklearn.metrics import classification_report , confusion_matrix\n",
    "\n",
    "print(classification_report(y_test,prediction))\n",
    "print(confusion_matrix(y_test,prediction))"
   ]
  },
  {
   "cell_type": "code",
   "execution_count": 12,
   "metadata": {},
   "outputs": [
    {
     "name": "stdout",
     "output_type": "stream",
     "text": [
      "             precision    recall  f1-score   support\n",
      "\n",
      "          0       0.82      0.44      0.57        41\n",
      "          1       0.85      0.97      0.90       130\n",
      "\n",
      "avg / total       0.84      0.84      0.82       171\n",
      "\n",
      "\n",
      "\n",
      "[[ 18  23]\n",
      " [  4 126]]\n"
     ]
    },
    {
     "name": "stderr",
     "output_type": "stream",
     "text": [
      "C:\\Users\\Madhur\\Anaconda3\\lib\\site-packages\\sklearn\\preprocessing\\label.py:171: DeprecationWarning: The truth value of an empty array is ambiguous. Returning False, but in future this will result in an error. Use `array.size > 0` to check that an array is not empty.\n",
      "  if diff:\n"
     ]
    }
   ],
   "source": [
    "from sklearn.metrics import classification_report , confusion_matrix\n",
    "eclf2 = VotingClassifier(estimators=[('lr', clf1), ('rf', clf2), \n",
    "                                     ('gnb', clf3)], voting='soft')\n",
    "eclf2 = eclf2.fit(X_train, y_train)\n",
    "predict = eclf2.predict(X_test)\n",
    "print(classification_report(y_test, predict))\n",
    "print('\\n')\n",
    "print(confusion_matrix(y_test, predict))"
   ]
  }
 ],
 "metadata": {
  "kernelspec": {
   "display_name": "Python 3",
   "language": "python",
   "name": "python3"
  },
  "language_info": {
   "codemirror_mode": {
    "name": "ipython",
    "version": 3
   },
   "file_extension": ".py",
   "mimetype": "text/x-python",
   "name": "python",
   "nbconvert_exporter": "python",
   "pygments_lexer": "ipython3",
   "version": "3.6.1"
  }
 },
 "nbformat": 4,
 "nbformat_minor": 2
}
